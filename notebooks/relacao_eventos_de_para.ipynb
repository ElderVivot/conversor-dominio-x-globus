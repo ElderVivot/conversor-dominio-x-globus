{
 "cells": [
  {
   "cell_type": "code",
   "execution_count": 61,
   "id": "c1dbc392-f7a4-4191-aa51-437a8cb8b2c7",
   "metadata": {},
   "outputs": [],
   "source": [
    "import pandas as pd\n",
    "from typing import List, Dict"
   ]
  },
  {
   "cell_type": "code",
   "execution_count": 62,
   "id": "f51e6325-0287-4f28-ab72-d471e1494b19",
   "metadata": {},
   "outputs": [],
   "source": [
    "pdData = pd.read_excel(\n",
    "    io=\"../data/_eventos_de_para_transnet.xlsx\",\n",
    "    usecols='A,B,C',\n",
    "    dtype='string'\n",
    ")"
   ]
  },
  {
   "cell_type": "code",
   "execution_count": 63,
   "id": "d2eaa333",
   "metadata": {},
   "outputs": [
    {
     "data": {
      "text/html": [
       "<div>\n",
       "<style scoped>\n",
       "    .dataframe tbody tr th:only-of-type {\n",
       "        vertical-align: middle;\n",
       "    }\n",
       "\n",
       "    .dataframe tbody tr th {\n",
       "        vertical-align: top;\n",
       "    }\n",
       "\n",
       "    .dataframe thead th {\n",
       "        text-align: right;\n",
       "    }\n",
       "</style>\n",
       "<table border=\"1\" class=\"dataframe\">\n",
       "  <thead>\n",
       "    <tr style=\"text-align: right;\">\n",
       "      <th></th>\n",
       "      <th>Código Empresa</th>\n",
       "      <th>Código Evento Domínio</th>\n",
       "      <th>Código Evento Transnet</th>\n",
       "    </tr>\n",
       "  </thead>\n",
       "  <tbody>\n",
       "    <tr>\n",
       "      <th>0</th>\n",
       "      <td>4</td>\n",
       "      <td>6</td>\n",
       "      <td>16</td>\n",
       "    </tr>\n",
       "    <tr>\n",
       "      <th>1</th>\n",
       "      <td>4</td>\n",
       "      <td>8011</td>\n",
       "      <td>16</td>\n",
       "    </tr>\n",
       "    <tr>\n",
       "      <th>2</th>\n",
       "      <td>4</td>\n",
       "      <td>779</td>\n",
       "      <td>16</td>\n",
       "    </tr>\n",
       "    <tr>\n",
       "      <th>3</th>\n",
       "      <td>4</td>\n",
       "      <td>868</td>\n",
       "      <td>23</td>\n",
       "    </tr>\n",
       "    <tr>\n",
       "      <th>4</th>\n",
       "      <td>4</td>\n",
       "      <td>8150</td>\n",
       "      <td>49</td>\n",
       "    </tr>\n",
       "    <tr>\n",
       "      <th>...</th>\n",
       "      <td>...</td>\n",
       "      <td>...</td>\n",
       "      <td>...</td>\n",
       "    </tr>\n",
       "    <tr>\n",
       "      <th>96</th>\n",
       "      <td>4</td>\n",
       "      <td>9491</td>\n",
       "      <td>8870</td>\n",
       "    </tr>\n",
       "    <tr>\n",
       "      <th>97</th>\n",
       "      <td>4</td>\n",
       "      <td>604</td>\n",
       "      <td>8883</td>\n",
       "    </tr>\n",
       "    <tr>\n",
       "      <th>98</th>\n",
       "      <td>4</td>\n",
       "      <td>1205</td>\n",
       "      <td>8923</td>\n",
       "    </tr>\n",
       "    <tr>\n",
       "      <th>99</th>\n",
       "      <td>4</td>\n",
       "      <td>9179</td>\n",
       "      <td>9180</td>\n",
       "    </tr>\n",
       "    <tr>\n",
       "      <th>100</th>\n",
       "      <td>4</td>\n",
       "      <td>366</td>\n",
       "      <td>9996</td>\n",
       "    </tr>\n",
       "  </tbody>\n",
       "</table>\n",
       "<p>101 rows × 3 columns</p>\n",
       "</div>"
      ],
      "text/plain": [
       "    Código Empresa Código Evento Domínio Código Evento Transnet\n",
       "0                4                     6                     16\n",
       "1                4                  8011                     16\n",
       "2                4                   779                     16\n",
       "3                4                   868                     23\n",
       "4                4                  8150                     49\n",
       "..             ...                   ...                    ...\n",
       "96               4                  9491                   8870\n",
       "97               4                   604                   8883\n",
       "98               4                  1205                   8923\n",
       "99               4                  9179                   9180\n",
       "100              4                   366                   9996\n",
       "\n",
       "[101 rows x 3 columns]"
      ]
     },
     "execution_count": 63,
     "metadata": {},
     "output_type": "execute_result"
    }
   ],
   "source": [
    "pdData"
   ]
  },
  {
   "cell_type": "code",
   "execution_count": 64,
   "id": "2e6ad35c",
   "metadata": {},
   "outputs": [],
   "source": [
    "pdData['Código Empresa'] = pdData['Código Empresa'].astype(str).str.zfill(3)\n",
    "pdData['Código Evento Transnet'] = pdData['Código Evento Transnet'].astype(str).str.zfill(4)"
   ]
  },
  {
   "cell_type": "code",
   "execution_count": 65,
   "id": "0df5a2ad",
   "metadata": {},
   "outputs": [],
   "source": [
    "pdData.set_index(['Código Empresa', 'Código Evento Domínio'], inplace=True)"
   ]
  },
  {
   "cell_type": "code",
   "execution_count": 66,
   "id": "28228c07",
   "metadata": {},
   "outputs": [
    {
     "data": {
      "text/html": [
       "<div>\n",
       "<style scoped>\n",
       "    .dataframe tbody tr th:only-of-type {\n",
       "        vertical-align: middle;\n",
       "    }\n",
       "\n",
       "    .dataframe tbody tr th {\n",
       "        vertical-align: top;\n",
       "    }\n",
       "\n",
       "    .dataframe thead th {\n",
       "        text-align: right;\n",
       "    }\n",
       "</style>\n",
       "<table border=\"1\" class=\"dataframe\">\n",
       "  <thead>\n",
       "    <tr style=\"text-align: right;\">\n",
       "      <th></th>\n",
       "      <th></th>\n",
       "      <th>Código Evento Transnet</th>\n",
       "    </tr>\n",
       "    <tr>\n",
       "      <th>Código Empresa</th>\n",
       "      <th>Código Evento Domínio</th>\n",
       "      <th></th>\n",
       "    </tr>\n",
       "  </thead>\n",
       "  <tbody>\n",
       "    <tr>\n",
       "      <th rowspan=\"11\" valign=\"top\">004</th>\n",
       "      <th>6</th>\n",
       "      <td>0016</td>\n",
       "    </tr>\n",
       "    <tr>\n",
       "      <th>8011</th>\n",
       "      <td>0016</td>\n",
       "    </tr>\n",
       "    <tr>\n",
       "      <th>779</th>\n",
       "      <td>0016</td>\n",
       "    </tr>\n",
       "    <tr>\n",
       "      <th>868</th>\n",
       "      <td>0023</td>\n",
       "    </tr>\n",
       "    <tr>\n",
       "      <th>8150</th>\n",
       "      <td>0049</td>\n",
       "    </tr>\n",
       "    <tr>\n",
       "      <th>...</th>\n",
       "      <td>...</td>\n",
       "    </tr>\n",
       "    <tr>\n",
       "      <th>9491</th>\n",
       "      <td>8870</td>\n",
       "    </tr>\n",
       "    <tr>\n",
       "      <th>604</th>\n",
       "      <td>8883</td>\n",
       "    </tr>\n",
       "    <tr>\n",
       "      <th>1205</th>\n",
       "      <td>8923</td>\n",
       "    </tr>\n",
       "    <tr>\n",
       "      <th>9179</th>\n",
       "      <td>9180</td>\n",
       "    </tr>\n",
       "    <tr>\n",
       "      <th>366</th>\n",
       "      <td>9996</td>\n",
       "    </tr>\n",
       "  </tbody>\n",
       "</table>\n",
       "<p>101 rows × 1 columns</p>\n",
       "</div>"
      ],
      "text/plain": [
       "                                     Código Evento Transnet\n",
       "Código Empresa Código Evento Domínio                       \n",
       "004            6                                       0016\n",
       "               8011                                    0016\n",
       "               779                                     0016\n",
       "               868                                     0023\n",
       "               8150                                    0049\n",
       "...                                                     ...\n",
       "               9491                                    8870\n",
       "               604                                     8883\n",
       "               1205                                    8923\n",
       "               9179                                    9180\n",
       "               366                                     9996\n",
       "\n",
       "[101 rows x 1 columns]"
      ]
     },
     "execution_count": 66,
     "metadata": {},
     "output_type": "execute_result"
    }
   ],
   "source": [
    "pdData"
   ]
  },
  {
   "cell_type": "code",
   "execution_count": 74,
   "id": "4df5c9ee",
   "metadata": {},
   "outputs": [],
   "source": [
    "locTest = pdData.loc[('004','8011')]"
   ]
  },
  {
   "cell_type": "code",
   "execution_count": 71,
   "id": "191bffba",
   "metadata": {},
   "outputs": [
    {
     "data": {
      "text/plain": [
       "'0016'"
      ]
     },
     "execution_count": 71,
     "metadata": {},
     "output_type": "execute_result"
    }
   ],
   "source": [
    "locTest['Código Evento Transnet']"
   ]
  }
 ],
 "metadata": {
  "kernelspec": {
   "display_name": "conversor-dominio-x-transnet-8qZZnPjS-py3.9",
   "language": "python",
   "name": "python3"
  },
  "language_info": {
   "codemirror_mode": {
    "name": "ipython",
    "version": 3
   },
   "file_extension": ".py",
   "mimetype": "text/x-python",
   "name": "python",
   "nbconvert_exporter": "python",
   "pygments_lexer": "ipython3",
   "version": "3.9.13"
  },
  "vscode": {
   "interpreter": {
    "hash": "7747dd49857d64b50961e6f55139fd0e6f6c6a7b2cdf2a8ee142d7e07f39d103"
   }
  }
 },
 "nbformat": 4,
 "nbformat_minor": 5
}
